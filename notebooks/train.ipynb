{
 "cells": [
  {
   "cell_type": "code",
   "execution_count": 1,
   "metadata": {},
   "outputs": [],
   "source": [
    "import torch\n",
    "import torch.nn as nn\n",
    "from torchvision import datasets, transforms, models\n",
    "from torch.utils.data import DataLoader, random_split\n",
    "from torchinfo import summary\n",
    "import matplotlib.pyplot as plt\n",
    "import torch.optim as optim\n",
    "import torchmetrics\n",
    "import numpy as np\n",
    "import random"
   ]
  },
  {
   "cell_type": "code",
   "execution_count": 2,
   "metadata": {},
   "outputs": [],
   "source": [
    "# Set the seed\n",
    "seed = 42\n",
    "torch.manual_seed(seed)\n",
    "torch.backends.cudnn.deterministic = True\n",
    "torch.backends.cudnn.benchmark = False\n",
    "np.random.seed(seed)\n",
    "random.seed(seed)"
   ]
  },
  {
   "cell_type": "code",
   "execution_count": 3,
   "metadata": {},
   "outputs": [],
   "source": [
    "# mean and sd for images size 299,299\n",
    "mean = [0.1854, 0.1854, 0.1855]\n",
    "std = [0.2005, 0.2005, 0.2005]\n",
    "\n",
    "train_ratio = 0.8 # train, valid split\n",
    "batch_size = 32\n",
    "epochs = 10\n",
    "lr = 1e-5\n",
    "\n",
    "# use gpu if available\n",
    "device = torch.device(\"cuda\" if torch.cuda.is_available() else \"cpu\")"
   ]
  },
  {
   "cell_type": "code",
   "execution_count": 4,
   "metadata": {},
   "outputs": [],
   "source": [
    "data_transform = transforms.Compose([\n",
    "    transforms.Resize((299, 299)),\n",
    "    transforms.ToTensor(),\n",
    "    transforms.Normalize(mean=mean, std=std)\n",
    "])"
   ]
  },
  {
   "cell_type": "code",
   "execution_count": 5,
   "metadata": {},
   "outputs": [],
   "source": [
    "# Load the datasets\n",
    "train_dataset = datasets.ImageFolder(root=\"../data/Training\", transform=data_transform)\n",
    "test_dataset = datasets.ImageFolder(root=\"../data/Testing\", transform=data_transform)\n",
    "\n",
    "# Create DataLoaders\n",
    "train_loader = DataLoader(train_dataset, batch_size=batch_size, shuffle=True, num_workers=2)\n",
    "test_loader = DataLoader(test_dataset, batch_size=batch_size, shuffle=False, num_workers=2)\n",
    "\n",
    "# Split Train into Train, Valid\n",
    "train_size = int(train_ratio * len(train_dataset))\n",
    "valid_size = len(train_dataset) - train_size\n",
    "train_subset, valid_subset = random_split(train_dataset, [train_size, valid_size])\n",
    "\n",
    "# Create DataLoaders\n",
    "train_loader = DataLoader(train_subset, batch_size=batch_size, shuffle=True, num_workers=2)\n",
    "val_loader = DataLoader(valid_subset, batch_size=batch_size, shuffle=False, num_workers=2)"
   ]
  },
  {
   "cell_type": "code",
   "execution_count": 6,
   "metadata": {},
   "outputs": [
    {
     "name": "stderr",
     "output_type": "stream",
     "text": [
      "c:\\Users\\jesdi\\.conda\\envs\\ml\\lib\\site-packages\\torchvision\\models\\_utils.py:223: UserWarning: Arguments other than a weight enum or `None` for 'weights' are deprecated since 0.13 and may be removed in the future. The current behavior is equivalent to passing `weights=Inception_V3_Weights.IMAGENET1K_V1`. You can also use `weights=Inception_V3_Weights.DEFAULT` to get the most up-to-date weights.\n",
      "  warnings.warn(msg)\n"
     ]
    }
   ],
   "source": [
    "# Initialize Inception V3 Model\n",
    "model = models.inception_v3(weights=True)\n",
    "in_features = model.fc.in_features\n",
    "model.fc = nn.Linear(in_features, len(train_dataset.classes))\n",
    "model.to(device)\n",
    "\n",
    "criterion = nn.CrossEntropyLoss()\n",
    "optimizer = optim.Adam(model.parameters(), lr=lr)"
   ]
  },
  {
   "cell_type": "code",
   "execution_count": 7,
   "metadata": {},
   "outputs": [],
   "source": [
    "# summary(model, input_size=(1, 3, 299, 299))"
   ]
  },
  {
   "cell_type": "code",
   "execution_count": 8,
   "metadata": {},
   "outputs": [],
   "source": [
    "auc_metric = torchmetrics.AUROC(task=\"multiclass\", num_classes=len(train_dataset.classes)).to(device)\n",
    "confusion_matrix_metric = torchmetrics.ConfusionMatrix(task=\"multiclass\", num_classes=len(train_dataset.classes)).to(device)"
   ]
  },
  {
   "cell_type": "code",
   "execution_count": 9,
   "metadata": {},
   "outputs": [],
   "source": [
    "def train_model(model, train_loader, criterion, optimizer, num_epochs=10):\n",
    "    train_loss, train_auc, val_loss, val_auc = [], [], [], []\n",
    "    best_val_loss = float('inf') \n",
    "    \n",
    "    for epoch in range(num_epochs):\n",
    "        model.train()\n",
    "        loss = 0\n",
    "        correct = 0\n",
    "        total = 0\n",
    "        \n",
    "        for images, labels in train_loader:\n",
    "            images, labels = images.to(device), labels.to(device)\n",
    "            \n",
    "            # Clear previous gradients\n",
    "            optimizer.zero_grad()\n",
    "            \n",
    "            # Inception v3 has two outputs: primary and auxiliary\n",
    "            outputs, aux_outputs = model(images)  \n",
    "            # calculate weighted loss\n",
    "            loss1 = criterion(outputs, labels)\n",
    "            loss2 = criterion(aux_outputs, labels)\n",
    "            _loss = loss1 + 0.4 * loss2\n",
    "            \n",
    "            # Backpropagate and update weights\n",
    "            _loss.backward()  \n",
    "            optimizer.step()\n",
    "            \n",
    "            loss += _loss.item()\n",
    "            \n",
    "            # Get predicted class\n",
    "            _, preds = outputs.max(1)  \n",
    "            total += labels.size(0)\n",
    "            correct += preds.eq(labels).sum().item()\n",
    "            \n",
    "            auc_metric.update(outputs, labels)\n",
    "            \n",
    "        epoch_loss = loss / len(train_loader)\n",
    "        accuracy = 100 * correct / total\n",
    "        train_loss.append(epoch_loss)\n",
    "        train_auc.append(auc_metric.compute().item())\n",
    "        auc_metric.reset()\n",
    "        \n",
    "        # Validation Phase\n",
    "        model.eval()\n",
    "        loss = 0\n",
    "        correct = 0\n",
    "        total = 0\n",
    "\n",
    "        with torch.no_grad():\n",
    "            for images, labels in val_loader:\n",
    "                images, labels = images.to(device), labels.to(device)\n",
    "                outputs = model(images)\n",
    "                _loss = criterion(outputs, labels)\n",
    "                \n",
    "                loss += _loss.item()\n",
    "                _, preds = torch.max(outputs, 1)\n",
    "                correct += (preds == labels).sum().item()\n",
    "                total += labels.size(0)\n",
    "                \n",
    "                auc_metric.update(outputs, labels)\n",
    "        \n",
    "        val_epoch_loss = loss / len(val_loader)\n",
    "        val_accuracy = 100 * correct / total\n",
    "        val_loss.append(val_epoch_loss)\n",
    "        val_auc.append(auc_metric.compute().item())\n",
    "        auc_metric.reset()\n",
    "        \n",
    "        print(f\"Epoch {epoch+1}/{num_epochs} - Train Loss: {epoch_loss:.4f} - Train Acc: {accuracy:.2f} - Val Loss: {val_epoch_loss:.4f} - Val Accuracy: {val_accuracy:.2f}%\")\n",
    "        \n",
    "        # Save model if validation loss is the lowest so far\n",
    "        if val_epoch_loss < best_val_loss:\n",
    "            # print(f\"Validation loss improved from {best_val_loss:.4f} to {val_loss:.4f}. Saving model...\")\n",
    "            best_val_loss = val_epoch_loss\n",
    "            torch.save(model.state_dict(), f'../models/inception_v3_{epoch}.pth')  # Save the model's parameters\n",
    "    \n",
    "    return train_loss, train_auc, val_loss, val_auc"
   ]
  },
  {
   "cell_type": "code",
   "execution_count": 10,
   "metadata": {},
   "outputs": [
    {
     "name": "stdout",
     "output_type": "stream",
     "text": [
      "Epoch 1/10 - Train Loss: 2.1861 - Train Acc: 71.61 - Val Loss: 0.3933 - Val Accuracy: 90.90%\n",
      "Epoch 2/10 - Train Loss: 0.5732 - Train Acc: 91.00 - Val Loss: 0.1985 - Val Accuracy: 94.49%\n",
      "Epoch 3/10 - Train Loss: 0.2982 - Train Acc: 95.23 - Val Loss: 0.1318 - Val Accuracy: 95.98%\n",
      "Epoch 4/10 - Train Loss: 0.1733 - Train Acc: 97.13 - Val Loss: 0.1028 - Val Accuracy: 96.68%\n",
      "Epoch 5/10 - Train Loss: 0.1033 - Train Acc: 98.62 - Val Loss: 0.0897 - Val Accuracy: 97.38%\n",
      "Epoch 6/10 - Train Loss: 0.0633 - Train Acc: 99.28 - Val Loss: 0.0837 - Val Accuracy: 97.46%\n",
      "Epoch 7/10 - Train Loss: 0.0516 - Train Acc: 99.52 - Val Loss: 0.0717 - Val Accuracy: 97.73%\n",
      "Epoch 8/10 - Train Loss: 0.0313 - Train Acc: 99.82 - Val Loss: 0.0752 - Val Accuracy: 97.90%\n",
      "Epoch 9/10 - Train Loss: 0.0249 - Train Acc: 99.74 - Val Loss: 0.0743 - Val Accuracy: 97.73%\n",
      "Epoch 10/10 - Train Loss: 0.0189 - Train Acc: 99.96 - Val Loss: 0.0761 - Val Accuracy: 97.90%\n"
     ]
    }
   ],
   "source": [
    "# Train the model\n",
    "train_loss, train_auc, val_loss, val_auc = train_model(model, train_loader, criterion, optimizer, num_epochs=epochs)"
   ]
  },
  {
   "cell_type": "code",
   "execution_count": null,
   "metadata": {},
   "outputs": [
    {
     "data": {
      "image/png": "[encoded data removed]",
      "text/plain": [
       "<Figure size 1200x600 with 2 Axes>"
      ]
     },
     "metadata": {},
     "output_type": "display_data"
    }
   ],
   "source": [
    "epochs = range(1, epochs + 1)\n",
    "\n",
    "plt.figure(figsize=(12, 6))\n",
    "\n",
    "plt.subplot(1, 2, 1)\n",
    "plt.plot(epochs, train_loss, label=\"Train Loss\", color='b', marker='o')\n",
    "plt.plot(epochs, val_loss, label=\"Validation Loss\", color='g', marker='o')\n",
    "plt.xlabel('Epochs')\n",
    "plt.ylabel('Loss')\n",
    "plt.title('Train vs Validation Loss')\n",
    "plt.legend()\n",
    "plt.scatter(5, val_loss[5], color='r', s=100, zorder=5) \n",
    "\n",
    "plt.subplot(1, 2, 2)\n",
    "plt.plot(epochs, train_auc, label=\"Train AUC\", color='b', marker='o')\n",
    "plt.plot(epochs, val_auc, label=\"Validation AUC\", color='g', marker='o')\n",
    "plt.xlabel('Epochs')\n",
    "plt.ylabel('AUC')\n",
    "plt.title('Train vs Validation AUC')\n",
    "plt.legend()\n",
    "plt.subplot(1, 2, 2)\n",
    "plt.scatter(5, val_auc[5], color='r', s=100, zorder=5) \n",
    "\n",
    "plt.tight_layout()\n",
    "plt.show()"
   ]
  },
  {
   "cell_type": "code",
   "execution_count": 16,
   "metadata": {},
   "outputs": [],
   "source": [
    "accuracy_metric = torchmetrics.Accuracy(task=\"multiclass\", num_classes=len(test_dataset.classes)).to(device)\n",
    "auc_metric = torchmetrics.AUROC(task=\"multiclass\", num_classes=len(test_dataset.classes)).to(device)\n",
    "confusion_matrix_metric = torchmetrics.ConfusionMatrix(task=\"multiclass\", num_classes=len(test_dataset.classes)).to(device)"
   ]
  },
  {
   "cell_type": "code",
   "execution_count": 17,
   "metadata": {},
   "outputs": [
    {
     "name": "stdout",
     "output_type": "stream",
     "text": [
      "Test Accuracy: 0.9790\n",
      "Test AUC: 0.9984\n",
      "Confusion Matrix:\n",
      "tensor([[260,  10,   0,   0],\n",
      "        [  1, 258,   1,   3],\n",
      "        [  0,   2, 317,   0],\n",
      "        [  0,   5,   2, 284]], device='cuda:0')\n"
     ]
    }
   ],
   "source": [
    "with torch.no_grad():\n",
    "    for images, labels in val_loader:\n",
    "        images, labels = images.to(device), labels.to(device)\n",
    "\n",
    "        outputs = model(images)\n",
    "        \n",
    "        _, preds = torch.max(outputs, 1)\n",
    "\n",
    "        accuracy_metric.update(preds, labels)\n",
    "\n",
    "        auc_metric.update(outputs, labels)\n",
    "\n",
    "        confusion_matrix_metric.update(outputs, labels)\n",
    "final_accuracy = accuracy_metric.compute()\n",
    "final_auc = auc_metric.compute()\n",
    "final_confusion_matrix = confusion_matrix_metric.compute()\n",
    "\n",
    "print(f\"Test Accuracy: {final_accuracy:.4f}\")\n",
    "print(f\"Test AUC: {final_auc:.4f}\")\n",
    "print(f\"Confusion Matrix:\\n{final_confusion_matrix}\")"
   ]
  },
  {
   "cell_type": "code",
   "execution_count": 18,
   "metadata": {},
   "outputs": [
    {
     "name": "stdout",
     "output_type": "stream",
     "text": [
      "Test Accuracy: 0.9840\n",
      "Test AUC: 0.9992\n",
      "Confusion Matrix:\n",
      "tensor([[287,  12,   0,   1],\n",
      "        [  0, 302,   2,   2],\n",
      "        [  0,   1, 404,   0],\n",
      "        [  0,   3,   0, 297]], device='cuda:0')\n"
     ]
    }
   ],
   "source": [
    "accuracy_metric = torchmetrics.Accuracy(task=\"multiclass\", num_classes=len(test_dataset.classes)).to(device)\n",
    "auc_metric = torchmetrics.AUROC(task=\"multiclass\", num_classes=len(test_dataset.classes)).to(device)\n",
    "confusion_matrix_metric = torchmetrics.ConfusionMatrix(task=\"multiclass\", num_classes=len(test_dataset.classes)).to(device)\n",
    "\n",
    "with torch.no_grad():\n",
    "    for images, labels in test_loader:\n",
    "        images, labels = images.to(device), labels.to(device)\n",
    "\n",
    "        outputs = model(images)\n",
    "        \n",
    "        _, preds = torch.max(outputs, 1)\n",
    "\n",
    "        accuracy_metric.update(preds, labels)\n",
    "\n",
    "        auc_metric.update(outputs, labels)\n",
    "\n",
    "        confusion_matrix_metric.update(outputs, labels)\n",
    "final_accuracy = accuracy_metric.compute()\n",
    "final_auc = auc_metric.compute()\n",
    "final_confusion_matrix = confusion_matrix_metric.compute()\n",
    "\n",
    "print(f\"Test Accuracy: {final_accuracy:.4f}\")\n",
    "print(f\"Test AUC: {final_auc:.4f}\")\n",
    "print(f\"Confusion Matrix:\\n{final_confusion_matrix}\")"
   ]
  }
 ],
 "metadata": {
  "kernelspec": {
   "display_name": "ml",
   "language": "python",
   "name": "python3"
  },
  "language_info": {
   "codemirror_mode": {
    "name": "ipython",
    "version": 3
   },
   "file_extension": ".py",
   "mimetype": "text/x-python",
   "name": "python",
   "nbconvert_exporter": "python",
   "pygments_lexer": "ipython3",
   "version": "3.10.9"
  }
 },
 "nbformat": 4,
 "nbformat_minor": 2
}

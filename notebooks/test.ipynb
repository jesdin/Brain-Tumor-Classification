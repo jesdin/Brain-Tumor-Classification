{
 "cells": [
  {
   "cell_type": "code",
   "execution_count": 22,
   "metadata": {},
   "outputs": [],
   "source": [
    "import torch\n",
    "import torch.nn as nn\n",
    "from torchvision import datasets, transforms, models\n",
    "from torch.utils.data import DataLoader\n",
    "import torchmetrics"
   ]
  },
  {
   "cell_type": "code",
   "execution_count": 23,
   "metadata": {},
   "outputs": [],
   "source": [
    "# mean and sd for images size 299,299\n",
    "mean = [0.1854, 0.1854, 0.1855]\n",
    "std = [0.2005, 0.2005, 0.2005]\n",
    "\n",
    "batch_size = 32\n",
    "model_path = '../models/inception_v3_5.pth'\n",
    "\n",
    "# use gpu if available\n",
    "device = torch.device(\"cuda\" if torch.cuda.is_available() else \"cpu\")"
   ]
  },
  {
   "cell_type": "code",
   "execution_count": 24,
   "metadata": {},
   "outputs": [],
   "source": [
    "data_transform = transforms.Compose([\n",
    "    transforms.Resize((299, 299)),\n",
    "    transforms.ToTensor(),\n",
    "    # transforms.Normalize(mean=mean, std=std)\n",
    "])\n",
    "test_dataset = datasets.ImageFolder(root=\"../data/Testing\", transform=data_transform)\n",
    "test_loader = DataLoader(test_dataset, batch_size=batch_size, shuffle=False, num_workers=2)"
   ]
  },
  {
   "cell_type": "code",
   "execution_count": null,
   "metadata": {},
   "outputs": [
    {
     "ename": "RuntimeError",
     "evalue": "Error(s) in loading state_dict for Inception3:\n\tUnexpected key(s) in state_dict: \"AuxLogits.conv0.conv.weight\", \"AuxLogits.conv0.bn.weight\", \"AuxLogits.conv0.bn.bias\", \"AuxLogits.conv0.bn.running_mean\", \"AuxLogits.conv0.bn.running_var\", \"AuxLogits.conv0.bn.num_batches_tracked\", \"AuxLogits.conv1.conv.weight\", \"AuxLogits.conv1.bn.weight\", \"AuxLogits.conv1.bn.bias\", \"AuxLogits.conv1.bn.running_mean\", \"AuxLogits.conv1.bn.running_var\", \"AuxLogits.conv1.bn.num_batches_tracked\", \"AuxLogits.fc.weight\", \"AuxLogits.fc.bias\". ",
     "output_type": "error",
     "traceback": [
      "\u001b[1;31m---------------------------------------------------------------------------\u001b[0m",
      "\u001b[1;31mRuntimeError\u001b[0m                              Traceback (most recent call last)",
      "Cell \u001b[1;32mIn[28], line 5\u001b[0m\n\u001b[0;32m      3\u001b[0m in_features \u001b[38;5;241m=\u001b[39m model\u001b[38;5;241m.\u001b[39mfc\u001b[38;5;241m.\u001b[39min_features\n\u001b[0;32m      4\u001b[0m model\u001b[38;5;241m.\u001b[39mfc \u001b[38;5;241m=\u001b[39m nn\u001b[38;5;241m.\u001b[39mLinear(in_features, \u001b[38;5;28mlen\u001b[39m(test_dataset\u001b[38;5;241m.\u001b[39mclasses))\n\u001b[1;32m----> 5\u001b[0m \u001b[43mmodel\u001b[49m\u001b[38;5;241;43m.\u001b[39;49m\u001b[43mload_state_dict\u001b[49m\u001b[43m(\u001b[49m\u001b[43mtorch\u001b[49m\u001b[38;5;241;43m.\u001b[39;49m\u001b[43mload\u001b[49m\u001b[43m(\u001b[49m\u001b[43mmodel_path\u001b[49m\u001b[43m)\u001b[49m\u001b[43m)\u001b[49m\n\u001b[0;32m      6\u001b[0m model\u001b[38;5;241m.\u001b[39mto(device)\n\u001b[0;32m      7\u001b[0m model\u001b[38;5;241m.\u001b[39meval()\n",
      "File \u001b[1;32mc:\\Users\\jesdi\\.conda\\envs\\ml\\lib\\site-packages\\torch\\nn\\modules\\module.py:2152\u001b[0m, in \u001b[0;36mModule.load_state_dict\u001b[1;34m(self, state_dict, strict, assign)\u001b[0m\n\u001b[0;32m   2147\u001b[0m         error_msgs\u001b[38;5;241m.\u001b[39minsert(\n\u001b[0;32m   2148\u001b[0m             \u001b[38;5;241m0\u001b[39m, \u001b[38;5;124m'\u001b[39m\u001b[38;5;124mMissing key(s) in state_dict: \u001b[39m\u001b[38;5;132;01m{}\u001b[39;00m\u001b[38;5;124m. \u001b[39m\u001b[38;5;124m'\u001b[39m\u001b[38;5;241m.\u001b[39mformat(\n\u001b[0;32m   2149\u001b[0m                 \u001b[38;5;124m'\u001b[39m\u001b[38;5;124m, \u001b[39m\u001b[38;5;124m'\u001b[39m\u001b[38;5;241m.\u001b[39mjoin(\u001b[38;5;124mf\u001b[39m\u001b[38;5;124m'\u001b[39m\u001b[38;5;124m\"\u001b[39m\u001b[38;5;132;01m{\u001b[39;00mk\u001b[38;5;132;01m}\u001b[39;00m\u001b[38;5;124m\"\u001b[39m\u001b[38;5;124m'\u001b[39m \u001b[38;5;28;01mfor\u001b[39;00m k \u001b[38;5;129;01min\u001b[39;00m missing_keys)))\n\u001b[0;32m   2151\u001b[0m \u001b[38;5;28;01mif\u001b[39;00m \u001b[38;5;28mlen\u001b[39m(error_msgs) \u001b[38;5;241m>\u001b[39m \u001b[38;5;241m0\u001b[39m:\n\u001b[1;32m-> 2152\u001b[0m     \u001b[38;5;28;01mraise\u001b[39;00m \u001b[38;5;167;01mRuntimeError\u001b[39;00m(\u001b[38;5;124m'\u001b[39m\u001b[38;5;124mError(s) in loading state_dict for \u001b[39m\u001b[38;5;132;01m{}\u001b[39;00m\u001b[38;5;124m:\u001b[39m\u001b[38;5;130;01m\\n\u001b[39;00m\u001b[38;5;130;01m\\t\u001b[39;00m\u001b[38;5;132;01m{}\u001b[39;00m\u001b[38;5;124m'\u001b[39m\u001b[38;5;241m.\u001b[39mformat(\n\u001b[0;32m   2153\u001b[0m                        \u001b[38;5;28mself\u001b[39m\u001b[38;5;241m.\u001b[39m\u001b[38;5;18m__class__\u001b[39m\u001b[38;5;241m.\u001b[39m\u001b[38;5;18m__name__\u001b[39m, \u001b[38;5;124m\"\u001b[39m\u001b[38;5;130;01m\\n\u001b[39;00m\u001b[38;5;130;01m\\t\u001b[39;00m\u001b[38;5;124m\"\u001b[39m\u001b[38;5;241m.\u001b[39mjoin(error_msgs)))\n\u001b[0;32m   2154\u001b[0m \u001b[38;5;28;01mreturn\u001b[39;00m _IncompatibleKeys(missing_keys, unexpected_keys)\n",
      "\u001b[1;31mRuntimeError\u001b[0m: Error(s) in loading state_dict for Inception3:\n\tUnexpected key(s) in state_dict: \"AuxLogits.conv0.conv.weight\", \"AuxLogits.conv0.bn.weight\", \"AuxLogits.conv0.bn.bias\", \"AuxLogits.conv0.bn.running_mean\", \"AuxLogits.conv0.bn.running_var\", \"AuxLogits.conv0.bn.num_batches_tracked\", \"AuxLogits.conv1.conv.weight\", \"AuxLogits.conv1.bn.weight\", \"AuxLogits.conv1.bn.bias\", \"AuxLogits.conv1.bn.running_mean\", \"AuxLogits.conv1.bn.running_var\", \"AuxLogits.conv1.bn.num_batches_tracked\", \"AuxLogits.fc.weight\", \"AuxLogits.fc.bias\". "
     ]
    }
   ],
   "source": [
    "# Load Inception V3 Model\n",
    "model = models.inception_v3(weights=False)\n",
    "in_features = model.fc.in_features\n",
    "model.fc = nn.Linear(in_features, len(test_dataset.classes))\n",
    "model.load_state_dict(torch.load(model_path))\n",
    "model.to(device)\n",
    "model.eval()"
   ]
  },
  {
   "cell_type": "code",
   "execution_count": 26,
   "metadata": {},
   "outputs": [],
   "source": [
    "accuracy_metric = torchmetrics.Accuracy(task=\"multiclass\", num_classes=len(test_dataset.classes)).to(device)\n",
    "auc_metric = torchmetrics.AUROC(task=\"multiclass\", num_classes=len(test_dataset.classes)).to(device)\n",
    "confusion_matrix_metric = torchmetrics.ConfusionMatrix(task=\"multiclass\", num_classes=len(test_dataset.classes)).to(device)"
   ]
  },
  {
   "cell_type": "code",
   "execution_count": 27,
   "metadata": {},
   "outputs": [
    {
     "name": "stdout",
     "output_type": "stream",
     "text": [
      "Test Accuracy: 0.3089\n",
      "Test AUC: 0.5712\n",
      "Confusion Matrix:\n",
      "tensor([[  0,   0, 300,   0],\n",
      "        [  0,   0, 306,   0],\n",
      "        [  0,   0, 405,   0],\n",
      "        [  0,   0, 300,   0]], device='cuda:0')\n"
     ]
    }
   ],
   "source": [
    "with torch.no_grad():\n",
    "    for images, labels in test_loader:\n",
    "        images, labels = images.to(device), labels.to(device)\n",
    "\n",
    "        outputs = model(images)\n",
    "        \n",
    "        _, preds = torch.max(outputs, 1)\n",
    "\n",
    "        accuracy_metric.update(preds, labels)\n",
    "\n",
    "        auc_metric.update(outputs, labels)\n",
    "\n",
    "        confusion_matrix_metric.update(outputs, labels)\n",
    "final_accuracy = accuracy_metric.compute()\n",
    "final_auc = auc_metric.compute()\n",
    "final_confusion_matrix = confusion_matrix_metric.compute()\n",
    "\n",
    "print(f\"Test Accuracy: {final_accuracy:.4f}\")\n",
    "print(f\"Test AUC: {final_auc:.4f}\")\n",
    "print(f\"Confusion Matrix:\\n{final_confusion_matrix}\")"
   ]
  },
  {
   "cell_type": "code",
   "execution_count": null,
   "metadata": {},
   "outputs": [],
   "source": []
  }
 ],
 "metadata": {
  "kernelspec": {
   "display_name": "ml",
   "language": "python",
   "name": "python3"
  },
  "language_info": {
   "codemirror_mode": {
    "name": "ipython",
    "version": 3
   },
   "file_extension": ".py",
   "mimetype": "text/x-python",
   "name": "python",
   "nbconvert_exporter": "python",
   "pygments_lexer": "ipython3",
   "version": "3.10.9"
  }
 },
 "nbformat": 4,
 "nbformat_minor": 2
}

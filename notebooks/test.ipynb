{
 "cells": [
  {
   "cell_type": "code",
   "execution_count": 1,
   "metadata": {},
   "outputs": [],
   "source": [
    "import torch\n",
    "import torch.nn as nn\n",
    "from torchvision import datasets, transforms, models\n",
    "from torch.utils.data import DataLoader\n",
    "import torchmetrics"
   ]
  },
  {
   "cell_type": "code",
   "execution_count": 2,
   "metadata": {},
   "outputs": [],
   "source": [
    "# mean and sd for images size 299,299\n",
    "mean = [0.1854, 0.1854, 0.1855]\n",
    "std = [0.2005, 0.2005, 0.2005]\n",
    "\n",
    "batch_size = 32\n",
    "model_path = '../models/inception_v3_5.pth'\n",
    "\n",
    "# use gpu if available\n",
    "device = torch.device(\"cuda\" if torch.cuda.is_available() else \"cpu\")"
   ]
  },
  {
   "cell_type": "code",
   "execution_count": 3,
   "metadata": {},
   "outputs": [],
   "source": [
    "data_transform = transforms.Compose([\n",
    "    transforms.Resize((299, 299)),\n",
    "    transforms.ToTensor(),\n",
    "    transforms.Normalize(mean=mean, std=std)\n",
    "])\n",
    "test_dataset = datasets.ImageFolder(root=\"../data/Testing\", transform=data_transform)\n",
    "test_loader = DataLoader(test_dataset, batch_size=batch_size, shuffle=False, num_workers=2)"
   ]
  },
  {
   "cell_type": "code",
   "execution_count": 20,
   "metadata": {},
   "outputs": [
    {
     "name": "stderr",
     "output_type": "stream",
     "text": [
      "code/__torch__/torchvision/models/inception.py:41: UserWarning: Scripted Inception3 always returns Inception3 Tuple\n",
      "code/__torch__/torchvision/models/inception.py:41: UserWarning: Scripted Inception3 always returns Inception3 Tuple\n",
      "code/__torch__/torchvision/models/inception.py:41: UserWarning: Scripted Inception3 always returns Inception3 Tuple\n",
      "code/__torch__/torchvision/models/inception.py:41: UserWarning: Scripted Inception3 always returns Inception3 Tuple\n",
      "code/__torch__/torchvision/models/inception.py:41: UserWarning: Scripted Inception3 always returns Inception3 Tuple\n",
      "code/__torch__/torchvision/models/inception.py:41: UserWarning: Scripted Inception3 always returns Inception3 Tuple\n",
      "code/__torch__/torchvision/models/inception.py:41: UserWarning: Scripted Inception3 always returns Inception3 Tuple\n",
      "code/__torch__/torchvision/models/inception.py:41: UserWarning: Scripted Inception3 always returns Inception3 Tuple\n",
      "code/__torch__/torchvision/models/inception.py:41: UserWarning: Scripted Inception3 always returns Inception3 Tuple\n",
      "code/__torch__/torchvision/models/inception.py:41: UserWarning: Scripted Inception3 always returns Inception3 Tuple\n",
      "code/__torch__/torchvision/models/inception.py:41: UserWarning: Scripted Inception3 always returns Inception3 Tuple\n",
      "code/__torch__/torchvision/models/inception.py:41: UserWarning: Scripted Inception3 always returns Inception3 Tuple\n",
      "code/__torch__/torchvision/models/inception.py:41: UserWarning: Scripted Inception3 always returns Inception3 Tuple\n",
      "code/__torch__/torchvision/models/inception.py:41: UserWarning: Scripted Inception3 always returns Inception3 Tuple\n",
      "code/__torch__/torchvision/models/inception.py:41: UserWarning: Scripted Inception3 always returns Inception3 Tuple\n",
      "code/__torch__/torchvision/models/inception.py:41: UserWarning: Scripted Inception3 always returns Inception3 Tuple\n",
      "code/__torch__/torchvision/models/inception.py:41: UserWarning: Scripted Inception3 always returns Inception3 Tuple\n",
      "code/__torch__/torchvision/models/inception.py:41: UserWarning: Scripted Inception3 always returns Inception3 Tuple\n",
      "code/__torch__/torchvision/models/inception.py:41: UserWarning: Scripted Inception3 always returns Inception3 Tuple\n",
      "code/__torch__/torchvision/models/inception.py:41: UserWarning: Scripted Inception3 always returns Inception3 Tuple\n",
      "code/__torch__/torchvision/models/inception.py:41: UserWarning: Scripted Inception3 always returns Inception3 Tuple\n",
      "code/__torch__/torchvision/models/inception.py:41: UserWarning: Scripted Inception3 always returns Inception3 Tuple\n",
      "code/__torch__/torchvision/models/inception.py:41: UserWarning: Scripted Inception3 always returns Inception3 Tuple\n",
      "code/__torch__/torchvision/models/inception.py:41: UserWarning: Scripted Inception3 always returns Inception3 Tuple\n",
      "code/__torch__/torchvision/models/inception.py:41: UserWarning: Scripted Inception3 always returns Inception3 Tuple\n",
      "code/__torch__/torchvision/models/inception.py:41: UserWarning: Scripted Inception3 always returns Inception3 Tuple\n",
      "code/__torch__/torchvision/models/inception.py:41: UserWarning: Scripted Inception3 always returns Inception3 Tuple\n",
      "code/__torch__/torchvision/models/inception.py:41: UserWarning: Scripted Inception3 always returns Inception3 Tuple\n",
      "code/__torch__/torchvision/models/inception.py:41: UserWarning: Scripted Inception3 always returns Inception3 Tuple\n",
      "code/__torch__/torchvision/models/inception.py:41: UserWarning: Scripted Inception3 always returns Inception3 Tuple\n",
      "code/__torch__/torchvision/models/inception.py:41: UserWarning: Scripted Inception3 always returns Inception3 Tuple\n",
      "code/__torch__/torchvision/models/inception.py:41: UserWarning: Scripted Inception3 always returns Inception3 Tuple\n",
      "code/__torch__/torchvision/models/inception.py:41: UserWarning: Scripted Inception3 always returns Inception3 Tuple\n",
      "code/__torch__/torchvision/models/inception.py:41: UserWarning: Scripted Inception3 always returns Inception3 Tuple\n",
      "code/__torch__/torchvision/models/inception.py:41: UserWarning: Scripted Inception3 always returns Inception3 Tuple\n",
      "code/__torch__/torchvision/models/inception.py:41: UserWarning: Scripted Inception3 always returns Inception3 Tuple\n",
      "code/__torch__/torchvision/models/inception.py:41: UserWarning: Scripted Inception3 always returns Inception3 Tuple\n",
      "code/__torch__/torchvision/models/inception.py:41: UserWarning: Scripted Inception3 always returns Inception3 Tuple\n",
      "code/__torch__/torchvision/models/inception.py:41: UserWarning: Scripted Inception3 always returns Inception3 Tuple\n",
      "code/__torch__/torchvision/models/inception.py:41: UserWarning: Scripted Inception3 always returns Inception3 Tuple\n",
      "code/__torch__/torchvision/models/inception.py:41: UserWarning: Scripted Inception3 always returns Inception3 Tuple\n"
     ]
    },
    {
     "name": "stdout",
     "output_type": "stream",
     "text": [
      "Test Accuracy: 0.9741\n",
      "Test AUC: 0.9986\n",
      "Confusion Matrix:\n",
      "tensor([[280,  19,   0,   1],\n",
      "        [  1, 298,   5,   2],\n",
      "        [  0,   1, 404,   0],\n",
      "        [  1,   4,   0, 295]], device='cuda:0')\n"
     ]
    }
   ],
   "source": [
    "# Load Inception V3 Model\n",
    "model = torch.jit.load('../models/inception_v3_5.pt')\n",
    "model.to(device)\n",
    "model.eval()\n",
    "print(end=\"\")\n",
    "\n",
    "# Initi Metrics\n",
    "accuracy_metric = torchmetrics.Accuracy(task=\"multiclass\", num_classes=len(test_dataset.classes)).to(device)\n",
    "auc_metric = torchmetrics.AUROC(task=\"multiclass\", num_classes=len(test_dataset.classes)).to(device)\n",
    "confusion_matrix_metric = torchmetrics.ConfusionMatrix(task=\"multiclass\", num_classes=len(test_dataset.classes)).to(device)\n",
    "\n",
    "with torch.no_grad():\n",
    "    for images, labels in test_loader:\n",
    "        images, labels = images.to(device), labels.to(device)\n",
    "\n",
    "        outputs, _ = model(images)\n",
    "        \n",
    "        _, preds = torch.max(outputs, 1)\n",
    "\n",
    "        accuracy_metric.update(preds, labels)\n",
    "\n",
    "        auc_metric.update(torch.nn.functional.softmax(outputs, dim=1), labels)\n",
    "\n",
    "        confusion_matrix_metric.update(preds, labels)\n",
    "final_accuracy = accuracy_metric.compute()\n",
    "final_auc = auc_metric.compute()\n",
    "final_confusion_matrix = confusion_matrix_metric.compute()\n",
    "\n",
    "print(f\"Test Accuracy: {final_accuracy:.4f}\")\n",
    "print(f\"Test AUC: {final_auc:.4f}\")\n",
    "print(f\"Confusion Matrix:\\n{final_confusion_matrix}\")"
   ]
  },
  {
   "cell_type": "code",
   "execution_count": 28,
   "metadata": {},
   "outputs": [
    {
     "name": "stderr",
     "output_type": "stream",
     "text": [
      "c:\\Users\\jesdi\\.conda\\envs\\ml\\lib\\site-packages\\torchvision\\models\\inception.py:43: FutureWarning: The default weight initialization of inception_v3 will be changed in future releases of torchvision. If you wish to keep the old behavior (which leads to long initialization times due to scipy/scipy#11299), please set init_weights=True.\n",
      "  warnings.warn(\n"
     ]
    },
    {
     "name": "stdout",
     "output_type": "stream",
     "text": [
      "Test Accuracy: 0.3089\n",
      "Test AUC: 0.6593\n",
      "Confusion Matrix:\n",
      "tensor([[  0,   0, 300,   0],\n",
      "        [  0,   0, 306,   0],\n",
      "        [  0,   0, 405,   0],\n",
      "        [  0,   0, 300,   0]], device='cuda:0')\n"
     ]
    }
   ],
   "source": [
    "# Load Inception V3 Model\n",
    "model = models.inception_v3(weights=None)\n",
    "in_features = model.fc.in_features\n",
    "model.fc = nn.Linear(in_features, len(test_dataset.classes))\n",
    "model.load_state_dict(torch.load(model_path))\n",
    "model.to(device)\n",
    "model.eval()\n",
    "\n",
    "# Initi Metrics\n",
    "accuracy_metric = torchmetrics.Accuracy(task=\"multiclass\", num_classes=len(test_dataset.classes)).to(device)\n",
    "auc_metric = torchmetrics.AUROC(task=\"multiclass\", num_classes=len(test_dataset.classes)).to(device)\n",
    "confusion_matrix_metric = torchmetrics.ConfusionMatrix(task=\"multiclass\", num_classes=len(test_dataset.classes)).to(device)\n",
    "\n",
    "with torch.no_grad():\n",
    "    for images, labels in test_loader:\n",
    "        images, labels = images.to(device), labels.to(device)\n",
    "\n",
    "        outputs = model(images)\n",
    "        \n",
    "        _, preds = torch.max(outputs, 1)\n",
    "\n",
    "        accuracy_metric.update(preds, labels)\n",
    "\n",
    "        auc_metric.update(torch.nn.functional.softmax(outputs, dim=1), labels)\n",
    "\n",
    "        confusion_matrix_metric.update(preds, labels)\n",
    "final_accuracy = accuracy_metric.compute()\n",
    "final_auc = auc_metric.compute()\n",
    "final_confusion_matrix = confusion_matrix_metric.compute()\n",
    "\n",
    "print(f\"Test Accuracy: {final_accuracy:.4f}\")\n",
    "print(f\"Test AUC: {final_auc:.4f}\")\n",
    "print(f\"Confusion Matrix:\\n{final_confusion_matrix}\")"
   ]
  },
  {
   "cell_type": "code",
   "execution_count": 24,
   "metadata": {},
   "outputs": [
    {
     "data": {
      "text/plain": [
       "torch.Size([31, 4])"
      ]
     },
     "execution_count": 24,
     "metadata": {},
     "output_type": "execute_result"
    }
   ],
   "source": [
    "outputs.logits.shape"
   ]
  },
  {
   "cell_type": "code",
   "execution_count": 27,
   "metadata": {},
   "outputs": [
    {
     "data": {
      "text/plain": [
       "torch.Size([31, 4])"
      ]
     },
     "execution_count": 27,
     "metadata": {},
     "output_type": "execute_result"
    }
   ],
   "source": [
    "outputs.shape"
   ]
  }
 ],
 "metadata": {
  "kernelspec": {
   "display_name": "ml",
   "language": "python",
   "name": "python3"
  },
  "language_info": {
   "codemirror_mode": {
    "name": "ipython",
    "version": 3
   },
   "file_extension": ".py",
   "mimetype": "text/x-python",
   "name": "python",
   "nbconvert_exporter": "python",
   "pygments_lexer": "ipython3",
   "version": "3.10.9"
  }
 },
 "nbformat": 4,
 "nbformat_minor": 2
}

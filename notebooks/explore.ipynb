{
 "cells": [
  {
   "cell_type": "code",
   "execution_count": null,
   "metadata": {},
   "outputs": [
    {
     "name": "stderr",
     "output_type": "stream",
     "text": [
      "'kaggle' is not recognized as an internal or external command,\n",
      "operable program or batch file.\n"
     ]
    }
   ],
   "source": [
    "# !kaggle datasets download -d masoudnickparvar/brain-tumor-mri-dataset --unzip"
   ]
  },
  {
   "cell_type": "code",
   "execution_count": 2,
   "metadata": {},
   "outputs": [
    {
     "name": "stdout",
     "output_type": "stream",
     "text": [
      "Collecting kaggle\n",
      "  Downloading kaggle-1.7.4.2-py3-none-any.whl (173 kB)\n",
      "     -------------------------------------- 173.2/173.2 kB 5.1 MB/s eta 0:00:00\n",
      "Requirement already satisfied: charset-normalizer in c:\\users\\jesdi\\.conda\\envs\\ml\\lib\\site-packages (from kaggle) (2.1.1)\n",
      "Collecting python-slugify\n",
      "  Downloading python_slugify-8.0.4-py2.py3-none-any.whl (10 kB)\n",
      "Requirement already satisfied: protobuf in c:\\users\\jesdi\\.conda\\envs\\ml\\lib\\site-packages (from kaggle) (4.23.4)\n",
      "Collecting text-unidecode\n",
      "  Downloading text_unidecode-1.3-py2.py3-none-any.whl (78 kB)\n",
      "     ---------------------------------------- 78.2/78.2 kB ? eta 0:00:00\n",
      "Requirement already satisfied: tqdm in c:\\users\\jesdi\\appdata\\roaming\\python\\python310\\site-packages (from kaggle) (4.66.2)\n",
      "Requirement already satisfied: urllib3>=1.15.1 in c:\\users\\jesdi\\.conda\\envs\\ml\\lib\\site-packages (from kaggle) (1.26.13)\n",
      "Collecting webencodings\n",
      "  Using cached webencodings-0.5.1-py2.py3-none-any.whl (11 kB)\n",
      "Requirement already satisfied: six>=1.10 in c:\\users\\jesdi\\.conda\\envs\\ml\\lib\\site-packages (from kaggle) (1.16.0)\n",
      "Requirement already satisfied: idna in c:\\users\\jesdi\\.conda\\envs\\ml\\lib\\site-packages (from kaggle) (3.4)\n",
      "Requirement already satisfied: certifi>=14.05.14 in c:\\users\\jesdi\\.conda\\envs\\ml\\lib\\site-packages (from kaggle) (2023.11.17)\n",
      "Requirement already satisfied: python-dateutil>=2.5.3 in c:\\users\\jesdi\\.conda\\envs\\ml\\lib\\site-packages (from kaggle) (2.8.2)\n",
      "Requirement already satisfied: setuptools>=21.0.0 in c:\\users\\jesdi\\.conda\\envs\\ml\\lib\\site-packages (from kaggle) (65.6.3)\n",
      "Requirement already satisfied: requests in c:\\users\\jesdi\\.conda\\envs\\ml\\lib\\site-packages (from kaggle) (2.28.1)\n",
      "Collecting bleach\n",
      "  Downloading bleach-6.2.0-py3-none-any.whl (163 kB)\n",
      "     -------------------------------------- 163.4/163.4 kB 9.6 MB/s eta 0:00:00\n",
      "Requirement already satisfied: colorama in c:\\users\\jesdi\\appdata\\roaming\\python\\python310\\site-packages (from tqdm->kaggle) (0.4.6)\n",
      "Installing collected packages: webencodings, text-unidecode, python-slugify, bleach, kaggle\n",
      "Successfully installed bleach-6.2.0 kaggle-1.7.4.2 python-slugify-8.0.4 text-unidecode-1.3 webencodings-0.5.1\n"
     ]
    }
   ],
   "source": [
    "!pip install kaggle"
   ]
  },
  {
   "cell_type": "code",
   "execution_count": 12,
   "metadata": {},
   "outputs": [
    {
     "name": "stdout",
     "output_type": "stream",
     "text": [
      "Dataset URL: https://www.kaggle.com/datasets/masoudnickparvar/brain-tumor-mri-dataset\n",
      "Dataset downloaded and extracted to ../data/\n"
     ]
    }
   ],
   "source": [
    "# Download the dataset\n",
    "from kaggle.api.kaggle_api_extended import KaggleApi\n",
    "\n",
    "# Initialize the Kaggle API\n",
    "api = KaggleApi()\n",
    "api.authenticate()\n",
    "\n",
    "# Define the dataset and download path\n",
    "dataset = 'masoudnickparvar/brain-tumor-mri-dataset'\n",
    "download_path = '../data/'\n",
    "\n",
    "# Download the dataset\n",
    "api.dataset_download_files(dataset, path=download_path, unzip=True)\n",
    "\n",
    "print(f\"Dataset downloaded and extracted to {download_path}\")"
   ]
  },
  {
   "cell_type": "code",
   "execution_count": null,
   "metadata": {},
   "outputs": [],
   "source": []
  }
 ],
 "metadata": {
  "kernelspec": {
   "display_name": "ml",
   "language": "python",
   "name": "python3"
  },
  "language_info": {
   "codemirror_mode": {
    "name": "ipython",
    "version": 3
   },
   "file_extension": ".py",
   "mimetype": "text/x-python",
   "name": "python",
   "nbconvert_exporter": "python",
   "pygments_lexer": "ipython3",
   "version": "3.10.9"
  }
 },
 "nbformat": 4,
 "nbformat_minor": 2
}
